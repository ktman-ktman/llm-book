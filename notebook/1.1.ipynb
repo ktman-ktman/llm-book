{
 "cells": [
  {
   "cell_type": "markdown",
   "id": "1783a338",
   "metadata": {},
   "source": [
    "# 1.1"
   ]
  },
  {
   "cell_type": "markdown",
   "id": "5949f8a3",
   "metadata": {},
   "source": [
    "## 1.1.1"
   ]
  },
  {
   "cell_type": "code",
   "execution_count": 2,
   "id": "4a8f1346",
   "metadata": {},
   "outputs": [],
   "source": [
    "from transformers import pipeline"
   ]
  },
  {
   "cell_type": "code",
   "execution_count": 3,
   "id": "a2bf2976",
   "metadata": {},
   "outputs": [
    {
     "name": "stderr",
     "output_type": "stream",
     "text": [
      "Device set to use cuda:0\n"
     ]
    }
   ],
   "source": [
    "text_classification = pipeline(model=\"llm-book/bert-base-japanese-v3-marc_ja\")"
   ]
  },
  {
   "cell_type": "code",
   "execution_count": 4,
   "id": "90dcb5ff",
   "metadata": {},
   "outputs": [],
   "source": [
    "positive_text = \"世界には言葉がわからなくても感動する音楽がある\""
   ]
  },
  {
   "cell_type": "code",
   "execution_count": 5,
   "id": "a179a36c",
   "metadata": {},
   "outputs": [
    {
     "data": {
      "text/plain": [
       "[{'label': 'positive', 'score': 0.9994138479232788}]"
      ]
     },
     "execution_count": 5,
     "metadata": {},
     "output_type": "execute_result"
    }
   ],
   "source": [
    "text_classification(positive_text)"
   ]
  },
  {
   "cell_type": "code",
   "execution_count": 6,
   "id": "f2e3ac37",
   "metadata": {},
   "outputs": [],
   "source": [
    "negative_text = \"世界には言葉がでないほどひどい音楽がある\""
   ]
  },
  {
   "cell_type": "code",
   "execution_count": 7,
   "id": "6129ed84",
   "metadata": {},
   "outputs": [
    {
     "data": {
      "text/plain": [
       "[{'label': 'negative', 'score': 0.9750520586967468}]"
      ]
     },
     "execution_count": 7,
     "metadata": {},
     "output_type": "execute_result"
    }
   ],
   "source": [
    "text_classification(negative_text)"
   ]
  },
  {
   "cell_type": "markdown",
   "id": "a650ca2a",
   "metadata": {},
   "source": [
    "## 1.1.2"
   ]
  },
  {
   "cell_type": "code",
   "execution_count": 8,
   "id": "9b163e25",
   "metadata": {},
   "outputs": [
    {
     "name": "stderr",
     "output_type": "stream",
     "text": [
      "Device set to use cuda:0\n"
     ]
    }
   ],
   "source": [
    "nli_pipeline = pipeline(model=\"llm-book/bert-base-japanese-v3-jnli\")"
   ]
  },
  {
   "cell_type": "code",
   "execution_count": 16,
   "id": "ec26611e",
   "metadata": {},
   "outputs": [],
   "source": [
    "text = \"二人の男性がジェット機を見ています\"\n",
    "entailment_text = \"ジェット機を見ている人が二人います\"\n",
    "contradiction_text = \"二人の男性が飛んでいます\"\n",
    "neutral_text = \"2人の男性が，白い飛行機を眺めています．\""
   ]
  },
  {
   "cell_type": "code",
   "execution_count": 14,
   "id": "4d691c1b",
   "metadata": {},
   "outputs": [
    {
     "data": {
      "text/plain": [
       "{'label': 'entailment', 'score': 0.9964311122894287}"
      ]
     },
     "execution_count": 14,
     "metadata": {},
     "output_type": "execute_result"
    }
   ],
   "source": [
    "nli_pipeline({\"text\": text, \"text_pair\": entailment_text})"
   ]
  },
  {
   "cell_type": "code",
   "execution_count": null,
   "id": "e3620863",
   "metadata": {},
   "outputs": [
    {
     "data": {
      "text/plain": [
       "{'label': 'contradiction', 'score': 0.9990535378456116}"
      ]
     },
     "execution_count": 15,
     "metadata": {},
     "output_type": "execute_result"
    }
   ],
   "source": [
    "nli_pipeline({\"text\": text, \"text_pair\": contradiction_text})"
   ]
  },
  {
   "cell_type": "code",
   "execution_count": 17,
   "id": "8ecba154",
   "metadata": {},
   "outputs": [
    {
     "data": {
      "text/plain": [
       "{'label': 'neutral', 'score': 0.9959046244621277}"
      ]
     },
     "execution_count": 17,
     "metadata": {},
     "output_type": "execute_result"
    }
   ],
   "source": [
    "nli_pipeline({\"text\": text, \"text_pair\": neutral_text})"
   ]
  },
  {
   "cell_type": "markdown",
   "id": "4aaf716d",
   "metadata": {},
   "source": [
    "## 1.1.3"
   ]
  },
  {
   "cell_type": "code",
   "execution_count": 18,
   "id": "62afbee7",
   "metadata": {},
   "outputs": [
    {
     "name": "stderr",
     "output_type": "stream",
     "text": [
      "Device set to use cuda:0\n"
     ]
    }
   ],
   "source": [
    "text_sim_pipeline = pipeline(model=\"llm-book/bert-base-japanese-v3-jsts\", function_to_apply=\"none\")"
   ]
  },
  {
   "cell_type": "code",
   "execution_count": 22,
   "id": "4d60c4d7",
   "metadata": {},
   "outputs": [],
   "source": [
    "text = \"川べりでサーフボードを持った人たちがいます\"\n",
    "sim_text = \"サーファーたちが川べりに立っています\"\n",
    "dissim_text = \"トイレの壁に黒いタオルが掛けられています\""
   ]
  },
  {
   "cell_type": "code",
   "execution_count": 20,
   "id": "8583c7d2",
   "metadata": {},
   "outputs": [],
   "source": [
    "result = text_sim_pipeline({\"text\": text, \"text_pair\": sim_text})"
   ]
  },
  {
   "cell_type": "code",
   "execution_count": 21,
   "id": "f0161abd",
   "metadata": {},
   "outputs": [
    {
     "data": {
      "text/plain": [
       "{'label': 'LABEL_0', 'score': 3.570356607437134}"
      ]
     },
     "execution_count": 21,
     "metadata": {},
     "output_type": "execute_result"
    }
   ],
   "source": [
    "result"
   ]
  },
  {
   "cell_type": "code",
   "execution_count": null,
   "id": "ccd9b5cd",
   "metadata": {},
   "outputs": [
    {
     "data": {
      "text/plain": [
       "{'label': 'LABEL_0', 'score': 0.035030558705329895}"
      ]
     },
     "execution_count": 23,
     "metadata": {},
     "output_type": "execute_result"
    }
   ],
   "source": [
    "text_sim_pipeline({\"text\": text, \"text_pair\": dissim_text})"
   ]
  },
  {
   "cell_type": "code",
   "execution_count": 24,
   "id": "d5c2337b",
   "metadata": {},
   "outputs": [],
   "source": [
    "from torch.nn.functional import cosine_similarity"
   ]
  },
  {
   "cell_type": "code",
   "execution_count": 25,
   "id": "b92df887",
   "metadata": {},
   "outputs": [
    {
     "name": "stderr",
     "output_type": "stream",
     "text": [
      "Device set to use cuda:0\n"
     ]
    }
   ],
   "source": [
    "sim_enc_pipeline = pipeline(model=\"llm-book/bert-base-japanese-v3-unsup-simcse-jawiki\", task=\"feature-extraction\") "
   ]
  },
  {
   "cell_type": "code",
   "execution_count": 30,
   "id": "85773d2a",
   "metadata": {},
   "outputs": [],
   "source": [
    "text_emb = sim_enc_pipeline(text, return_tensors=True)[0][0]\n",
    "sim_text_emb = sim_enc_pipeline(sim_text, return_tensors=True)[0][0]\n",
    "dissim_text_emb = sim_enc_pipeline(dissim_text, return_tensors=True)[0][0]"
   ]
  },
  {
   "cell_type": "code",
   "execution_count": 33,
   "id": "55a2e7d3",
   "metadata": {},
   "outputs": [
    {
     "data": {
      "text/plain": [
       "0.8568587899208069"
      ]
     },
     "execution_count": 33,
     "metadata": {},
     "output_type": "execute_result"
    }
   ],
   "source": [
    "cosine_similarity(text_emb, sim_text_emb, dim=0).item()"
   ]
  },
  {
   "cell_type": "code",
   "execution_count": null,
   "id": "858f37b0",
   "metadata": {},
   "outputs": [
    {
     "data": {
      "text/plain": [
       "0.45993202924728394"
      ]
     },
     "execution_count": 32,
     "metadata": {},
     "output_type": "execute_result"
    }
   ],
   "source": [
    "cosine_similarity(text_emb, dissim_text_emb, dim=0).item()"
   ]
  },
  {
   "cell_type": "markdown",
   "id": "793624c9",
   "metadata": {},
   "source": [
    "## 1.1.4"
   ]
  },
  {
   "cell_type": "code",
   "execution_count": 34,
   "id": "3da281d2",
   "metadata": {},
   "outputs": [
    {
     "name": "stderr",
     "output_type": "stream",
     "text": [
      "Device set to use cuda:0\n"
     ]
    }
   ],
   "source": [
    "ner_pipeline = pipeline(model=\"llm-book/bert-base-japanese-v3-ner-wikipedia-dataset\", aggregation_strategy=\"simple\")"
   ]
  },
  {
   "cell_type": "code",
   "execution_count": 35,
   "id": "e9d34a6a",
   "metadata": {},
   "outputs": [],
   "source": [
    "text = \"大谷祥平は岩手県水沢市出身のプロ野球選手である。\""
   ]
  },
  {
   "cell_type": "code",
   "execution_count": 36,
   "id": "5561c9fb",
   "metadata": {},
   "outputs": [
    {
     "data": {
      "text/plain": [
       "[{'entity_group': '人名',\n",
       "  'score': np.float32(0.99876785),\n",
       "  'word': '大谷 祥平',\n",
       "  'start': None,\n",
       "  'end': None},\n",
       " {'entity_group': '地名',\n",
       "  'score': np.float32(0.99872315),\n",
       "  'word': '岩手 県 水沢 市',\n",
       "  'start': None,\n",
       "  'end': None}]"
      ]
     },
     "execution_count": 36,
     "metadata": {},
     "output_type": "execute_result"
    }
   ],
   "source": [
    "ner_pipeline(text)"
   ]
  },
  {
   "cell_type": "markdown",
   "id": "13109db1",
   "metadata": {},
   "source": [
    "## 1.1.5"
   ]
  },
  {
   "cell_type": "code",
   "execution_count": 40,
   "id": "893072ad",
   "metadata": {},
   "outputs": [
    {
     "name": "stderr",
     "output_type": "stream",
     "text": [
      "Device set to use cuda:0\n"
     ]
    }
   ],
   "source": [
    "text2text_pipeline = pipeline(model=\"llm-book/t5-base-long-livedoor-news-corpus\", task=\"summarization\")"
   ]
  },
  {
   "cell_type": "code",
   "execution_count": 41,
   "id": "db2795e3",
   "metadata": {},
   "outputs": [],
   "source": [
    "article = \"ついに始まった３連休。テレビを見ながら過ごしている人も多いのではないだろうか？　今夜オススメなのは何と言っても、NHKスペシャル「世界を変えた男 スティーブ・ジョブズ」だ。実は知らない人も多いジョブズ氏の養子に出された生い立ちや、アップル社から一時追放されるなどの経験。そして、彼が追い求めた理想の未来とはなんだったのか、ファンならずとも気になる内容になっている。 今年、亡くなったジョブズ氏の伝記は日本でもベストセラーになっている。今後もアップル製品だけでなく、世界でのジョブズ氏の影響は大きいだろうと想像される。ジョブズ氏のことをあまり知らないという人もこの機会にぜひチェックしてみよう。 世界を変えた男　スティーブ・ジョブズ（NHKスペシャル）\""
   ]
  },
  {
   "cell_type": "code",
   "execution_count": 42,
   "id": "c228fb95",
   "metadata": {},
   "outputs": [
    {
     "data": {
      "text/plain": [
       "[{'summary_text': '今夜はNHKスペシャル「世界を変えた男 スティーブ・ジョブズ」'}]"
      ]
     },
     "execution_count": 42,
     "metadata": {},
     "output_type": "execute_result"
    }
   ],
   "source": [
    "text2text_pipeline(article)"
   ]
  },
  {
   "cell_type": "code",
   "execution_count": null,
   "id": "a7cefa56",
   "metadata": {},
   "outputs": [],
   "source": []
  }
 ],
 "metadata": {
  "kernelspec": {
   "display_name": "llm-book",
   "language": "python",
   "name": "python3"
  },
  "language_info": {
   "codemirror_mode": {
    "name": "ipython",
    "version": 3
   },
   "file_extension": ".py",
   "mimetype": "text/x-python",
   "name": "python",
   "nbconvert_exporter": "python",
   "pygments_lexer": "ipython3",
   "version": "3.13.0"
  }
 },
 "nbformat": 4,
 "nbformat_minor": 5
}
